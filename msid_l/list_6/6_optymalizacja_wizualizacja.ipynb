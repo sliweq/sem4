{
  "cells": [
    {
      "attachments": {},
      "cell_type": "markdown",
      "metadata": {
        "id": "65h6ycL6VHaO"
      },
      "source": [
        "## **Optymalizacja numeryczna**"
      ]
    },
    {
      "attachments": {},
      "cell_type": "markdown",
      "metadata": {
        "id": "ERNaTUORaEc8"
      },
      "source": [
        "---\n",
        "### **Część II** - <font color='orange'>w jaki sposób to działa."
      ]
    },
    {
      "attachments": {},
      "cell_type": "markdown",
      "metadata": {
        "id": "QVJ7aNqY_g4e"
      },
      "source": [
        "W tej części przedstawione zostaną graficznie rezultaty działania optymalizatorów. <br>\n",
        "Wizualizacje mają na celu pogłębienie wiedzy o tym, czym jest proces poszukiwań optimum i jakie są własności metod numerycznych.<br>\n",
        "Ta dodatkowa wiedza pozwoli bardziej efektywnie korzystać z metod bibliotecznych."
      ]
    },
    {
      "cell_type": "code",
      "execution_count": 1,
      "metadata": {},
      "outputs": [],
      "source": [
        "import numpy as np\n",
        "import matplotlib.pyplot as plt\n",
        "from scipy import optimize"
      ]
    },
    {
      "attachments": {},
      "cell_type": "markdown",
      "metadata": {},
      "source": [
        "**Ćwiczenie 1**: Zaimplementuj poniższą funkcję, a następnie kilkukrotnie uruchom kod. Od czego zależy znalezione minimum?\n",
        "\n",
        "$$F(x) = \\cos x - 3\\exp\\left[-(x-0.2)^2\\right]$$\n",
        "\n",
        "Zinterpretuj jakie informacje znajdują się na wykresie."
      ]
    },
    {
      "cell_type": "code",
      "execution_count": 2,
      "metadata": {
        "colab": {
          "base_uri": "https://localhost:8080/",
          "height": 284
        },
        "id": "MNr5BTmocnPf",
        "outputId": "30d8a20a-7fce-40f2-f53f-395e9e61e833"
      },
      "outputs": [
        {
          "ename": "TypeError",
          "evalue": "float() argument must be a string or a real number, not 'ellipsis'",
          "output_type": "error",
          "traceback": [
            "\u001b[0;31m---------------------------------------------------------------------------\u001b[0m",
            "\u001b[0;31mTypeError\u001b[0m                                 Traceback (most recent call last)",
            "Cell \u001b[0;32mIn[2], line 5\u001b[0m\n\u001b[1;32m      2\u001b[0m     \u001b[38;5;28;01mreturn\u001b[39;00m \u001b[38;5;241m.\u001b[39m\u001b[38;5;241m.\u001b[39m\u001b[38;5;241m.\u001b[39m\n\u001b[1;32m      4\u001b[0m x_pocz \u001b[38;5;241m=\u001b[39m np\u001b[38;5;241m.\u001b[39mrandom\u001b[38;5;241m.\u001b[39muniform(\u001b[38;5;241m-\u001b[39m\u001b[38;5;241m1.0\u001b[39m,\u001b[38;5;241m4.0\u001b[39m)\n\u001b[0;32m----> 5\u001b[0m x_opt, x_historia \u001b[38;5;241m=\u001b[39m \u001b[43moptimize\u001b[49m\u001b[38;5;241;43m.\u001b[39;49m\u001b[43mfmin\u001b[49m\u001b[43m(\u001b[49m\u001b[43mFcelu\u001b[49m\u001b[43m,\u001b[49m\u001b[43m \u001b[49m\u001b[43mx_pocz\u001b[49m\u001b[43m,\u001b[49m\u001b[43m \u001b[49m\u001b[43mdisp\u001b[49m\u001b[38;5;241;43m=\u001b[39;49m\u001b[38;5;28;43;01mFalse\u001b[39;49;00m\u001b[43m,\u001b[49m\u001b[43m \u001b[49m\u001b[43mretall\u001b[49m\u001b[38;5;241;43m=\u001b[39;49m\u001b[38;5;28;43;01mTrue\u001b[39;49;00m\u001b[43m)\u001b[49m\n\u001b[1;32m      7\u001b[0m x_historia_array \u001b[38;5;241m=\u001b[39m np\u001b[38;5;241m.\u001b[39marray([x[\u001b[38;5;241m0\u001b[39m] \u001b[38;5;28;01mfor\u001b[39;00m x \u001b[38;5;129;01min\u001b[39;00m x_historia])\n\u001b[1;32m      8\u001b[0m xx \u001b[38;5;241m=\u001b[39m np\u001b[38;5;241m.\u001b[39mlinspace(\u001b[38;5;241m-\u001b[39m\u001b[38;5;241m2\u001b[39m,\u001b[38;5;241m5\u001b[39m, \u001b[38;5;241m300\u001b[39m)\n",
            "File \u001b[0;32m/usr/lib/python3.12/site-packages/scipy/optimize/_optimize.py:653\u001b[0m, in \u001b[0;36mfmin\u001b[0;34m(func, x0, args, xtol, ftol, maxiter, maxfun, full_output, disp, retall, callback, initial_simplex)\u001b[0m\n\u001b[1;32m    644\u001b[0m opts \u001b[38;5;241m=\u001b[39m {\u001b[38;5;124m'\u001b[39m\u001b[38;5;124mxatol\u001b[39m\u001b[38;5;124m'\u001b[39m: xtol,\n\u001b[1;32m    645\u001b[0m         \u001b[38;5;124m'\u001b[39m\u001b[38;5;124mfatol\u001b[39m\u001b[38;5;124m'\u001b[39m: ftol,\n\u001b[1;32m    646\u001b[0m         \u001b[38;5;124m'\u001b[39m\u001b[38;5;124mmaxiter\u001b[39m\u001b[38;5;124m'\u001b[39m: maxiter,\n\u001b[0;32m   (...)\u001b[0m\n\u001b[1;32m    649\u001b[0m         \u001b[38;5;124m'\u001b[39m\u001b[38;5;124mreturn_all\u001b[39m\u001b[38;5;124m'\u001b[39m: retall,\n\u001b[1;32m    650\u001b[0m         \u001b[38;5;124m'\u001b[39m\u001b[38;5;124minitial_simplex\u001b[39m\u001b[38;5;124m'\u001b[39m: initial_simplex}\n\u001b[1;32m    652\u001b[0m callback \u001b[38;5;241m=\u001b[39m _wrap_callback(callback)\n\u001b[0;32m--> 653\u001b[0m res \u001b[38;5;241m=\u001b[39m \u001b[43m_minimize_neldermead\u001b[49m\u001b[43m(\u001b[49m\u001b[43mfunc\u001b[49m\u001b[43m,\u001b[49m\u001b[43m \u001b[49m\u001b[43mx0\u001b[49m\u001b[43m,\u001b[49m\u001b[43m \u001b[49m\u001b[43margs\u001b[49m\u001b[43m,\u001b[49m\u001b[43m \u001b[49m\u001b[43mcallback\u001b[49m\u001b[38;5;241;43m=\u001b[39;49m\u001b[43mcallback\u001b[49m\u001b[43m,\u001b[49m\u001b[43m \u001b[49m\u001b[38;5;241;43m*\u001b[39;49m\u001b[38;5;241;43m*\u001b[39;49m\u001b[43mopts\u001b[49m\u001b[43m)\u001b[49m\n\u001b[1;32m    654\u001b[0m \u001b[38;5;28;01mif\u001b[39;00m full_output:\n\u001b[1;32m    655\u001b[0m     retlist \u001b[38;5;241m=\u001b[39m res[\u001b[38;5;124m'\u001b[39m\u001b[38;5;124mx\u001b[39m\u001b[38;5;124m'\u001b[39m], res[\u001b[38;5;124m'\u001b[39m\u001b[38;5;124mfun\u001b[39m\u001b[38;5;124m'\u001b[39m], res[\u001b[38;5;124m'\u001b[39m\u001b[38;5;124mnit\u001b[39m\u001b[38;5;124m'\u001b[39m], res[\u001b[38;5;124m'\u001b[39m\u001b[38;5;124mnfev\u001b[39m\u001b[38;5;124m'\u001b[39m], res[\u001b[38;5;124m'\u001b[39m\u001b[38;5;124mstatus\u001b[39m\u001b[38;5;124m'\u001b[39m]\n",
            "File \u001b[0;32m/usr/lib/python3.12/site-packages/scipy/optimize/_optimize.py:818\u001b[0m, in \u001b[0;36m_minimize_neldermead\u001b[0;34m(func, x0, args, callback, maxiter, maxfev, disp, return_all, initial_simplex, xatol, fatol, adaptive, bounds, **unknown_options)\u001b[0m\n\u001b[1;32m    816\u001b[0m \u001b[38;5;28;01mtry\u001b[39;00m:\n\u001b[1;32m    817\u001b[0m     \u001b[38;5;28;01mfor\u001b[39;00m k \u001b[38;5;129;01min\u001b[39;00m \u001b[38;5;28mrange\u001b[39m(N \u001b[38;5;241m+\u001b[39m \u001b[38;5;241m1\u001b[39m):\n\u001b[0;32m--> 818\u001b[0m         \u001b[43mfsim\u001b[49m\u001b[43m[\u001b[49m\u001b[43mk\u001b[49m\u001b[43m]\u001b[49m \u001b[38;5;241m=\u001b[39m func(sim[k])\n\u001b[1;32m    819\u001b[0m \u001b[38;5;28;01mexcept\u001b[39;00m _MaxFuncCallError:\n\u001b[1;32m    820\u001b[0m     \u001b[38;5;28;01mpass\u001b[39;00m\n",
            "\u001b[0;31mTypeError\u001b[0m: float() argument must be a string or a real number, not 'ellipsis'"
          ]
        }
      ],
      "source": [
        "def Fcelu(x):\n",
        "    return np.cos(x)\n",
        "\n",
        "x_pocz = np.random.uniform(-1.0,4.0)\n",
        "x_opt, x_historia = optimize.fmin(Fcelu, x_pocz, disp=False, retall=True)\n",
        "\n",
        "x_historia_array = np.array([x[0] for x in x_historia])\n",
        "xx = np.linspace(-2,5, 300)\n",
        "plt.plot(xx,Fcelu(xx), label=\"f celu\")\n",
        "plt.plot(x_historia_array, Fcelu(x_historia_array), 'o', color='gray', alpha=0.7, label=\"candidative solutions\")\n",
        "plt.plot(x_pocz, Fcelu(x_pocz), 'go', label=\"starting point\")\n",
        "plt.plot(x_opt, Fcelu(x_opt), 'ro', label=\"optimum\")\n",
        "plt.xlabel(r'$x$', fontsize=16)\n",
        "plt.ylabel(r'$F(x)$', fontsize=16)\n",
        "plt.legend()\n",
        "plt.show()"
      ]
    },
    {
      "attachments": {},
      "cell_type": "markdown",
      "metadata": {},
      "source": [
        "**Odpowiedź 1:** ..."
      ]
    },
    {
      "attachments": {},
      "cell_type": "markdown",
      "metadata": {},
      "source": [
        "**Ćwiczenie 2**: Jaka jest rożnica między optymalizacją analityczną, a numeryczną?"
      ]
    },
    {
      "attachments": {},
      "cell_type": "markdown",
      "metadata": {},
      "source": [
        "**Odpowiedź 2:** ..."
      ]
    },
    {
      "attachments": {},
      "cell_type": "markdown",
      "metadata": {},
      "source": [
        "**Ćwiczenie 3**: Jak postępować z metodą numeryczną, by zwiększyć szanse znalezienia optimum globalnego?"
      ]
    },
    {
      "attachments": {},
      "cell_type": "markdown",
      "metadata": {},
      "source": [
        "**Odpowiedź 3:** ..."
      ]
    },
    {
      "attachments": {},
      "cell_type": "markdown",
      "metadata": {},
      "source": [
        "**Ćwiczenie 4**: Dla podanej ponizej funkcji oraz jej wizualizacji zinterpretuj poniższy wykres \"Wykres do analizy\"."
      ]
    },
    {
      "attachments": {},
      "cell_type": "markdown",
      "metadata": {
        "id": "VEt0CKLBC5Jq"
      },
      "source": [
        "\n",
        "\n",
        "$$F(\\mathbf{x})=\\sin x + \\sin (3x-0.3)$$"
      ]
    },
    {
      "cell_type": "code",
      "execution_count": null,
      "metadata": {
        "colab": {
          "base_uri": "https://localhost:8080/",
          "height": 265
        },
        "id": "A8VVU-3Geuzq",
        "outputId": "cfbeb584-edcf-4ebb-e2de-65c205aad6b6"
      },
      "outputs": [],
      "source": [
        "def Fcelu(x):\n",
        "    return np.sin(x) + np.sin(3*x-0.3)\n",
        "\n",
        "def negFcelu(x):\n",
        "  return -Fcelu(x)\n",
        "\n",
        "os_x = np.linspace(-5, 10, 300)\n",
        "plt.plot(os_x, Fcelu(os_x))\n",
        "plt.show()\n",
        "\n",
        "\n",
        "plt.figure(figsize=(12,8))\n",
        "for _ in range(100):\n",
        "  x_opt, x_historia = optimize.fmin(Fcelu, np.random.uniform(0,10), disp=False, retall=True)\n",
        "  plt.plot(x_historia, color='tab:blue', alpha=0.5)\n",
        "  x_opt, x_historia = optimize.fmin(negFcelu, np.random.uniform(0,10), disp=False, retall=True)\n",
        "  plt.plot(x_historia, color='tab:orange', alpha=0.5)\n",
        "\n",
        "plt.xticks(np.arange(20))\n",
        "plt.xlabel('numer iteracji', fontsize=16)\n",
        "plt.ylabel(r'wartość zmiennej decyzyjnej $x$', fontsize=16)\n",
        "plt.title(\"Wykres do analizy\")\n",
        "plt.show()"
      ]
    },
    {
      "attachments": {},
      "cell_type": "markdown",
      "metadata": {
        "colab": {
          "base_uri": "https://localhost:8080/",
          "height": 502
        },
        "id": "WRqreJNPez5o",
        "outputId": "bf1179ee-a8ba-499a-c575-cd3a758b6482"
      },
      "source": [
        "**Odpowiedź 4:** ..."
      ]
    },
    {
      "attachments": {},
      "cell_type": "markdown",
      "metadata": {},
      "source": [
        "**Ćwiczenie 5**: Zastąp procedurę `fmin` procedurą `fmin_bfgs`, a następnie zreferuj jak wpłynęło to na wyniki powyższej symulacji.\n",
        "\n",
        "Opisz pokrótce (2-3 zdania) na czym polega algorytm BFGS."
      ]
    },
    {
      "attachments": {},
      "cell_type": "markdown",
      "metadata": {},
      "source": [
        "**Odpowiedź 5:** ..."
      ]
    },
    {
      "attachments": {},
      "cell_type": "markdown",
      "metadata": {},
      "source": [
        "### Wizualizacja 3D"
      ]
    },
    {
      "attachments": {},
      "cell_type": "markdown",
      "metadata": {
        "id": "EonWRJu_KFI3"
      },
      "source": [
        "Wizualizacja rezultatów optymalizacji funkcji dwu zmiennych ($\\mathbf{x}\\in \\Re^2$) wymaga poznania technik **rysowania wykresów funkcji dwuwymiarowych**."
      ]
    },
    {
      "attachments": {},
      "cell_type": "markdown",
      "metadata": {
        "id": "rdAsU76ALuZs"
      },
      "source": [
        "Poniżej wprowadzenie poprzez przykłady."
      ]
    },
    {
      "cell_type": "code",
      "execution_count": null,
      "metadata": {
        "colab": {
          "base_uri": "https://localhost:8080/"
        },
        "id": "_ntbsUlUg_vl",
        "outputId": "16c4c70e-5302-4f7c-980d-3c79e04fad36"
      },
      "outputs": [],
      "source": [
        "os_x1 = np.arange(0,5)\n",
        "os_x2 = np.arange(2,6)\n",
        "print(os_x1)\n",
        "print(os_x2)"
      ]
    },
    {
      "cell_type": "code",
      "execution_count": null,
      "metadata": {
        "colab": {
          "base_uri": "https://localhost:8080/"
        },
        "id": "e5Om-DAjhI5k",
        "outputId": "7ba00a47-8f80-4b5f-a906-f5a1a912147f"
      },
      "outputs": [],
      "source": [
        "siatka_X1, siatka_X2 = np.meshgrid(os_x1, os_x2)\n",
        "print(siatka_X1, end='\\n\\n')\n",
        "print(siatka_X2)"
      ]
    },
    {
      "attachments": {},
      "cell_type": "markdown",
      "metadata": {
        "id": "P6QMzWozMAUd"
      },
      "source": [
        "Wiesz już co robi `meshgrid` i dlaczego nazwałem wyniki `siatka_`?"
      ]
    },
    {
      "cell_type": "code",
      "execution_count": null,
      "metadata": {
        "colab": {
          "base_uri": "https://localhost:8080/"
        },
        "id": "7kb0MBPUQJgv",
        "outputId": "fef2b2e2-8db9-4909-c48a-49022c26b232"
      },
      "outputs": [],
      "source": [
        "def F(x):\n",
        "  x1, x2 = x\n",
        "  return x1 + x2 \n",
        "\n",
        "macierz_Z = F([siatka_X1, siatka_X2])\n",
        "macierz_Z"
      ]
    },
    {
      "cell_type": "code",
      "execution_count": null,
      "metadata": {
        "colab": {
          "base_uri": "https://localhost:8080/",
          "height": 269
        },
        "id": "0_knGehmOtFW",
        "outputId": "4eedfc5e-176d-41bf-b26a-2e118b6539f3"
      },
      "outputs": [],
      "source": [
        "plt.imshow(macierz_Z, extent=[os_x1.min(), os_x1.max(), os_x2.min(), os_x2.max()])\n",
        "plt.xticks(os_x1)\n",
        "plt.yticks(os_x2)\n",
        "plt.show()"
      ]
    },
    {
      "cell_type": "code",
      "execution_count": null,
      "metadata": {
        "colab": {
          "base_uri": "https://localhost:8080/",
          "height": 411
        },
        "id": "hXvgIPyyiXdW",
        "outputId": "395f317d-dc5f-489b-b25b-bf1a592bf5cb"
      },
      "outputs": [],
      "source": [
        "fig, ax = plt.subplots(figsize=(7,7), subplot_kw={'projection':'3d'})\n",
        "ax.plot_surface(siatka_X1, siatka_X2, macierz_Z, cmap='viridis')\n",
        "ax.set_xlabel('$x_1$', fontsize=14)\n",
        "ax.set_ylabel('$x_2$', fontsize=14)\n",
        "ax.set_zlabel('$F$', fontsize=14)\n",
        "plt.show()"
      ]
    },
    {
      "attachments": {},
      "cell_type": "markdown",
      "metadata": {},
      "source": [
        "Oto funkcja opakowująca wszystkie rutynowe czynności przy rysowaniu wykresu trójwymiarowego. "
      ]
    },
    {
      "cell_type": "code",
      "execution_count": null,
      "metadata": {},
      "outputs": [],
      "source": [
        "def pokaz_3D(Fcelu, zakres):\n",
        "  os_x1 = np.linspace(zakres[0], zakres[1], 50)\n",
        "  os_x2 = np.linspace(zakres[2], zakres[3], 50)\n",
        "  siatka_X1, siatka_X2 = np.meshgrid(os_x1, os_x2)\n",
        "\n",
        "  fig, ax = plt.subplots(figsize=(7,7), subplot_kw={'projection':'3d'})\n",
        "  ax.plot_surface(siatka_X1, siatka_X2, Fcelu([siatka_X1, siatka_X2]), cmap='Spectral_r')\n",
        "  ax.set_xlabel('$x_1$', fontsize=14)\n",
        "  ax.set_ylabel('$x_2$', fontsize=14)\n",
        "  ax.set_zlabel('$F$', fontsize=14)\n",
        "  plt.show()\n"
      ]
    },
    {
      "attachments": {},
      "cell_type": "markdown",
      "metadata": {},
      "source": [
        "A tak się z niej korzysta."
      ]
    },
    {
      "attachments": {},
      "cell_type": "markdown",
      "metadata": {},
      "source": [
        "$$F(\\mathbf{x})=3(x_1-2)^2 \\cdot (x_2+1)^2$$"
      ]
    },
    {
      "cell_type": "code",
      "execution_count": null,
      "metadata": {},
      "outputs": [],
      "source": [
        "def Fcelu(x):\n",
        "  x1, x2 = x\n",
        "  return 3*(x1-2)**2 * (x2+1)**2\n",
        "\n",
        "pokaz_3D(Fcelu, zakres=[1,3, -2,0])"
      ]
    },
    {
      "attachments": {},
      "cell_type": "markdown",
      "metadata": {},
      "source": [
        "A oto analogiczna funkcja rysująca na płaszczyźnie, ale za to pokazująca całą historię poszukiwań rozwiązania optymalnego. "
      ]
    },
    {
      "cell_type": "code",
      "execution_count": null,
      "metadata": {},
      "outputs": [],
      "source": [
        "def pokaz_2D(Fcelu, x_historia, zakres):\n",
        "  x_pocz, x_opt = x_historia[0], x_historia[-1]\n",
        "  os_x1 = np.linspace(zakres[0], zakres[1], num=100)\n",
        "  os_x2 = np.linspace(zakres[2], zakres[3], num=100)\n",
        "  siatka_X1, siatka_X2 = np.meshgrid(os_x1, os_x2)\n",
        "  macierz_Z = Fcelu([siatka_X1, siatka_X2])\n",
        "\n",
        "  fig, ax = plt.subplots(figsize=(8,8))\n",
        "  cplot = ax.contourf(siatka_X1, siatka_X2, macierz_Z, 10, cmap='Spectral_r', alpha=1)\n",
        "  clines = ax.contour(siatka_X1, siatka_X2, macierz_Z, 10, colors='black')\n",
        "  for punkt in x_historia:\n",
        "      ax.plot(punkt[0], punkt[1], 'o', \n",
        "              color='white', markeredgecolor='black', markersize=5, alpha=0.7)\n",
        "  ax.plot(x_pocz[0], x_pocz[1], 'd', \n",
        "          color='gray', markeredgecolor='black', markersize=10, alpha=0.7)    \n",
        "  ax.plot(x_opt[0], x_opt[1], 'h', \n",
        "          color='white', markeredgecolor='black', markersize=15)\n",
        "  ax.set_aspect('equal')\n",
        "  ax.set_xlabel(r'$x_1$', fontsize=16)\n",
        "  ax.set_ylabel(r'$x_2$', fontsize=16)\n",
        "  ax.clabel(clines)\n",
        "  fig.colorbar(cplot)\n",
        "  return fig, ax"
      ]
    },
    {
      "attachments": {},
      "cell_type": "markdown",
      "metadata": {},
      "source": [
        "Tak się z niej korzysta."
      ]
    },
    {
      "attachments": {},
      "cell_type": "markdown",
      "metadata": {},
      "source": [
        "$$F(\\mathbf{x}) = (x_1 - 1)^2 + (x_2 + 2)^2$$"
      ]
    },
    {
      "cell_type": "code",
      "execution_count": null,
      "metadata": {},
      "outputs": [],
      "source": [
        "def Fcelu(x):\n",
        "  x1, x2 = x\n",
        "  return (x1 - 1)**2 + (x2 + 2)**2\n",
        "\n",
        "x_opt, x_historia = optimize.fmin(\n",
        "  Fcelu,\n",
        "  np.random.uniform(-1,1, size=2),\n",
        "  retall=True,\n",
        ")\n",
        "\n",
        "zakres=[-3, 3, -5, 1]\n",
        "pokaz_2D(Fcelu, x_historia, zakres)\n",
        "plt.show()\n",
        "pokaz_3D(Fcelu, zakres)"
      ]
    },
    {
      "attachments": {},
      "cell_type": "markdown",
      "metadata": {},
      "source": [
        "Funkcja Rosenbrocka:\n",
        "$$F(\\mathbf{x}) = (1-x_1)^2 + 100(x_2 - x_1^2)^2$$\n",
        "\n",
        "\n",
        "\n",
        "Poczytaj więcej na temat tego dlaczego funkcja Rosenbrocka jest dla nas tak istotna: \n",
        "1) https://www.sfu.ca/~ssurjano/rosen.html,\n",
        "2) https://mathworld.wolfram.com/RosenbrockFunction.html.\n"
      ]
    },
    {
      "cell_type": "code",
      "execution_count": null,
      "metadata": {},
      "outputs": [],
      "source": [
        "def Fcelu(x):\n",
        "    x1, x2 = x\n",
        "    return (1-x1)**2 + 100*(x2-x1**2)**2\n",
        "\n",
        "# każda zmienna decyzyjna jest losowana z innego zakresu\n",
        "x_pocz = (np.random.uniform(-1,2), np.random.uniform(-2,1))\n",
        "x_opt, x_historia = optimize.fmin(Fcelu, x_pocz, retall=True)\n",
        "\n",
        "zakres=[-2, 2, -2, 3]\n",
        "pokaz_2D(Fcelu, x_historia, zakres)\n",
        "plt.show()\n",
        "pokaz_3D(Fcelu, zakres)"
      ]
    },
    {
      "attachments": {},
      "cell_type": "markdown",
      "metadata": {},
      "source": [
        "**Ćwiczenie 6**: Zaimplementuj poniższą funkcję, a następnie uruchom poniższą komórkę kodu."
      ]
    },
    {
      "attachments": {},
      "cell_type": "markdown",
      "metadata": {},
      "source": [
        "$$F(\\mathbf{x}) = \\left(\\exp\\left[-x_1-1\\right]\\right)^2 + (x_2+2)^2 - x_1x_2 + 10\\left(\\sin 4x_1 + \\cos 5x_2\\right)$$"
      ]
    },
    {
      "cell_type": "code",
      "execution_count": null,
      "metadata": {},
      "outputs": [],
      "source": [
        "def Fcelu(x):\n",
        "  return ...\n",
        "\n",
        "x_pocz = (np.random.uniform(-2,2), np.random.uniform(-2,3))\n",
        "x_opt, x_historia = optimize.fmin(Fcelu, x_pocz, retall=True, disp=False)\n",
        "\n",
        "zakres=[-2, 2, -2, 3]\n",
        "pokaz_2D(Fcelu, x_historia, zakres)\n",
        "plt.show()\n",
        "pokaz_3D(Fcelu, zakres)"
      ]
    },
    {
      "attachments": {},
      "cell_type": "markdown",
      "metadata": {},
      "source": [
        "**Wizualizacja uwzględniająca ograniczenia**"
      ]
    },
    {
      "cell_type": "code",
      "execution_count": null,
      "metadata": {},
      "outputs": [],
      "source": [
        "def pokaz2D_z_ogr(Fcelu, x_pocz, x_opt, zakres, ograniczenia, gx=None):\n",
        "  fig, ax = pokaz_2D(Fcelu, x_historia=[x_pocz, x_opt], zakres=zakres)\n",
        "\n",
        "  if 'fun' in ograniczenia:\n",
        "    os_x1 = np.linspace(zakres[0], zakres[1], num=100)\n",
        "    krzywa_g_x1 = gx(os_x1)\n",
        "    ax.plot(os_x1, krzywa_g_x1, color='black')\n",
        "    ax.fill_between(os_x1, krzywa_g_x1, color='grey', alpha=0.7)\n",
        "    ax.set_ylim(*zakres[2:])\n",
        "  else:\n",
        "    obszar_dopuszczalny = plt.Rectangle((ograniczenia['x1'][0], ograniczenia['x2'][0]),\n",
        "                                        ograniczenia['x1'][1]-ograniczenia['x1'][0],\n",
        "                                        ograniczenia['x2'][1]-ograniczenia['x2'][0],\n",
        "                                        facecolor='gray', edgecolor='black', alpha=0.7)\n",
        "    ax.add_patch(obszar_dopuszczalny)\n",
        "  ax.plot(x_pocz[0], x_pocz[1], 'd', \n",
        "          color='gray', markeredgecolor='black', markersize=10, alpha=0.7) \n",
        "  return fig, ax"
      ]
    },
    {
      "attachments": {},
      "cell_type": "markdown",
      "metadata": {},
      "source": [
        "Znajdźmy maksimum poniższej funkcji celu:\n",
        "$$F(\\mathbf{x}) = \\left(4\\sin\\pi x_1 + 6\\sin\\pi x_2\\right) + (x_1-1)^2 + (x_2-1)^2$$\n",
        "\n",
        "i ograniczeń:\n",
        "$$3.5 \\leq x_1 \\leq 6$$\n",
        "$$-5 \\leq x_2 \\leq -2$$\n",
        "\n",
        "\n",
        "i zwizualizujmy rozwiązanie wraz z ograniczeniami."
      ]
    },
    {
      "cell_type": "code",
      "execution_count": null,
      "metadata": {},
      "outputs": [],
      "source": [
        "def Fcelu(x):\n",
        "    x1, x2 = x\n",
        "    return (\n",
        "        4 * np.sin(np.pi * x1) +\n",
        "        6 * np.sin(np.pi * x2) +\n",
        "        (x1 - 1) ** 2 +\n",
        "        (x2 - 1) ** 2\n",
        "    )\n",
        "\n",
        "ograniczenia = {'x1': [3.5, 6], 'x2': [-5,-2]}\n",
        "x_pocz = (\n",
        "    np.random.uniform(*ograniczenia['x1']), \n",
        "    np.random.uniform(*ograniczenia['x2'])\n",
        ")\n",
        "x_opt = optimize.minimize(\n",
        "    Fcelu, x_pocz, method='TNC', bounds=list(ograniczenia.values())\n",
        ").x\n",
        "zakres = [0, 8, -6, 0]\n",
        "\n",
        "pokaz_3D(Fcelu, zakres)\n",
        "pokaz2D_z_ogr(Fcelu, x_pocz, x_opt, zakres, ograniczenia)"
      ]
    },
    {
      "attachments": {},
      "cell_type": "markdown",
      "metadata": {},
      "source": [
        "**Ćwiczenie 7**: Zminimalizuj funkcję celu\n",
        "$$F(\\mathbf{x}) = (x_1-1)^2 + (x_2+2)^2 + x_1x_2$$\n",
        "wraz z zadanymi ograniczeniami: \n",
        "$$3.5 \\leq x_1 \\leq 6$$\n",
        "$$-5 \\leq x_2 \\leq -2$$\n",
        "\n",
        "Następnie zwizualizuj przebieg optymalizacji z użyciem `pokaz2D_z_ogr`."
      ]
    },
    {
      "cell_type": "code",
      "execution_count": null,
      "metadata": {},
      "outputs": [],
      "source": [
        "def Fcelu(x):\n",
        "  ...\n",
        "\n",
        "x_pocz = (\n",
        "  np.random.uniform(*ograniczenia['x1']),\n",
        "  np.random.uniform(*ograniczenia['x2'])\n",
        ")\n",
        "x_opt = optimize.minimize(Fcelu, x_pocz, method='TNC', bounds=list(ograniczenia.values())).x\n",
        "\n",
        "zakres = [0, 8, -6, 0]"
      ]
    },
    {
      "attachments": {},
      "cell_type": "markdown",
      "metadata": {},
      "source": [
        "Funkcja celu: \n",
        "$$F(\\mathbf{x}) = (x_1-1)^2 + (x_2+2)^2 + x_1x_2$$\n",
        "Ograniczenia: \n",
        "$$g(\\mathbf{x}) = x_2 + 2 + 2(x_1-3)^2 - (x_1 - 3)^4 \\geq 0$$"
      ]
    },
    {
      "cell_type": "code",
      "execution_count": null,
      "metadata": {},
      "outputs": [],
      "source": [
        "def g(x):\n",
        "  x1, x2 = x\n",
        "  return x2 + 2 + 2*(x1-3)**2 - (x1-3)**4\n",
        "\n",
        "# w celu narysowania krzywej g(x)=0 trzeba zdefiniować osobną funkcję\n",
        "# można wyznaczyć jej postać automatycznie biblioteką SymPy, jeżeli włożyć w to trochę wysiłku\n",
        "gx = lambda x1: -2 -2*(x1-3)**2 + (x1-3)**4\n",
        "\n",
        "ograniczenia = {'type': 'ineq', 'fun': g}\n",
        "\n",
        "x_pocz = np.random.uniform(-5,5, size=2)\n",
        "x_opt = optimize.minimize(Fcelu, x_pocz, method='SLSQP', constraints=ograniczenia).x\n",
        "\n",
        "zakres = [0, 8, -6, 0]\n",
        "pokaz2D_z_ogr(Fcelu, x_pocz, x_opt, zakres, ograniczenia, gx)\n",
        "plt.show()"
      ]
    },
    {
      "attachments": {},
      "cell_type": "markdown",
      "metadata": {},
      "source": [
        "### Forma kwadratowa"
      ]
    },
    {
      "attachments": {},
      "cell_type": "markdown",
      "metadata": {},
      "source": [
        "W celu lepszego zrozumienia działania procedur optymalizacji i uczenia maszynowego warto zaprzyjaźnić się z formą kwadratową:\n",
        "\n",
        "$$ \\mathbf{x}^{\\text{T}} A \\mathbf{x},$$\n",
        "\n",
        "przy czym do wizualizacji wystarczy rozważyć jej dwuwymiarowe wcielenie: $\\mathbf{x} \\in \\Re^2$, $A \\in \\Re^{2 \\times 2}$. <br>\n",
        "\n",
        "Skorzystaj z kodu poniżej, by oswoić się z wykresami formy kwadratowej dla różnych wartości współrzędnych macierzy $\\mathbf{A}$. \n",
        "Poniższa implementacja oblicza formę kwadratową w standardowy sposób z użyciem macierzy."
      ]
    },
    {
      "cell_type": "code",
      "execution_count": null,
      "metadata": {},
      "outputs": [],
      "source": [
        "def quadratic_form_matrix(\n",
        "  mesh_X1: np.ndarray, mesh_X2: np.ndarray, A: np.ndarray, meshgrid_shape: bool = True, debug:bool = False,\n",
        ") -> np.ndarray:\n",
        "  \"\"\"\n",
        "  Computes quadratic form function q (characterised by matrix A) for matrix x.\n",
        "\n",
        "  TLDR: it computes this equation: q(x) = x'@A@x\n",
        "  Here is more info: https://duch.mimuw.edu.pl/~m_korch/pl/17-quadratic-form/\n",
        "\n",
        "  :param mesh_X1: array of vectors of shape [1, n_vects]\n",
        "  :param mesh_X2: array of vectors of shape [1, n_vects]\n",
        "  :param A: form matrix of shape [n_dims, n_dims]\n",
        "  :return: q(x), a matrix of shape [n_vects] converted (if selected) to numpy \n",
        "    meshgrid shape, i.e. [n_dims * sqrt(n_vects)]\n",
        "  \"\"\"\n",
        "  x = np.vstack((mesh_X1.ravel(), mesh_X2.ravel()))\n",
        "  if debug:\n",
        "    print(f\"Shape of x: {x.shape}\")\n",
        "    print(f\"Shape of A: {A.shape}\")\n",
        "\n",
        "  z = (x.transpose()@A@x).diagonal()\n",
        "  if debug:\n",
        "    print(f\"Shape of initial z: {z.shape}\")\n",
        "\n",
        "  if meshgrid_shape:\n",
        "    n_dims = x.shape[0]\n",
        "    n_vects = x.shape[1]\n",
        "    new_shape=[int(n_vects ** (1 / n_dims)) for _ in range(n_dims)]\n",
        "    z = np.reshape(z, newshape=new_shape)\n",
        "  else:\n",
        "    z = z[:, np.newaxis]\n",
        "\n",
        "  if debug:\n",
        "    print(f\"Shape of final z: {z.shape}\")\n",
        "  return z"
      ]
    },
    {
      "cell_type": "code",
      "execution_count": null,
      "metadata": {},
      "outputs": [],
      "source": [
        "rozdzielczosc = 50\n",
        "\n",
        "os_x1 = np.linspace(start=-3, stop=3, num=rozdzielczosc)\n",
        "os_x2 = np.linspace(start=-3, stop=3, num=rozdzielczosc)\n",
        "siatka_X1, siatka_X2 = np.meshgrid(os_x1, os_x2)\n",
        "\n",
        "# ================================\n",
        "A = np.array([[1,2], [2,-1]])\n",
        "# ================================\n",
        "\n",
        "macierz_Z = quadratic_form_matrix(siatka_X1, siatka_X2, A)\n",
        "\n",
        "\n",
        "cmap = 'Spectral_r'\n",
        "fig = plt.figure(figsize=(15,5))\n",
        "ax = fig.add_subplot(1, 2, 1, projection='3d')\n",
        "ax.plot_surface(\n",
        "  siatka_X1,\n",
        "  siatka_X2,\n",
        "  macierz_Z,\n",
        "  rcount=rozdzielczosc,\n",
        "  ccount=rozdzielczosc,\n",
        "  cmap=cmap\n",
        ") \n",
        "\n",
        "rozdzielczosc_konturu = 20\n",
        "ax = fig.add_subplot(1, 2, 2)\n",
        "c_1 = ax.contourf(\n",
        "  siatka_X1, siatka_X2, macierz_Z, rozdzielczosc_konturu, cmap=cmap\n",
        ")\n",
        "c_2 = ax.contour(\n",
        "  siatka_X1, siatka_X2, macierz_Z, rozdzielczosc_konturu, colors='black'\n",
        ")\n",
        "\n",
        "ax.set_aspect('equal')\n",
        "fig.colorbar(c_1, ax=ax)\n",
        "plt.clabel(c_2, inline=True, fontsize=10)\n",
        "\n",
        "plt.show()"
      ]
    },
    {
      "attachments": {},
      "cell_type": "markdown",
      "metadata": {},
      "source": [
        "**Ćwiczenie 8**: Zaimplementuj, a następnie zwizualizuj formę kwadratową w uproszczonej (nie-macierzowej) postaci. Do rozwiązania zadania będziesz potrzebować przekształcić (rozpisać) wzór z powyższej komórki."
      ]
    },
    {
      "cell_type": "code",
      "execution_count": null,
      "metadata": {},
      "outputs": [],
      "source": [
        "def quadratic_form_non_matrix(mesh_X1: np.ndarray, mesh_X2: np.ndarray, A: np.ndarray) -> np.ndarray:\n",
        "  \"\"\"\n",
        "  Computes quadratic form function q (characterised by matrix A) for matrix x.\n",
        "\n",
        "  TLDR: it computes this equation: q(x) = x'@A@x but in non-matrix way.\n",
        "\n",
        "  :param mesh_X1: array of vectors of shape [1, n_vects]\n",
        "  :param mesh_X2: array of vectors of shape [1, n_vects]\n",
        "  :param A: form matrix of shape [n_dims, n_dims]\n",
        "  :return: q(x), a meshgrid matrix that contains values of quadratic form\n",
        "    computed over input matrix x\n",
        "  \"\"\"\n",
        "  ..."
      ]
    },
    {
      "cell_type": "code",
      "execution_count": null,
      "metadata": {},
      "outputs": [],
      "source": []
    },
    {
      "cell_type": "code",
      "execution_count": null,
      "metadata": {},
      "outputs": [],
      "source": [
        "assert np.isclose(\n",
        "    quadratic_form_matrix(siatka_X1, siatka_X2, A),\n",
        "    quadratic_form_non_matrix(siatka_X1, siatka_X2, A)\n",
        ").all()"
      ]
    }
  ],
  "metadata": {
    "colab": {
      "collapsed_sections": [],
      "name": "MSiD_5_optymalizacja.ipynb",
      "provenance": []
    },
    "interpreter": {
      "hash": "0b51826e000ae94bed4f869b6985bbf026c2d9e14d99dac09b729841a359c888"
    },
    "kernelspec": {
      "display_name": "Python 3.9.12 ('msid')",
      "language": "python",
      "name": "python3"
    },
    "language_info": {
      "codemirror_mode": {
        "name": "ipython",
        "version": 3
      },
      "file_extension": ".py",
      "mimetype": "text/x-python",
      "name": "python",
      "nbconvert_exporter": "python",
      "pygments_lexer": "ipython3",
      "version": "3.12.3"
    }
  },
  "nbformat": 4,
  "nbformat_minor": 0
}
