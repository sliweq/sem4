{
  "cells": [
    {
      "cell_type": "markdown",
      "metadata": {
        "id": "cl7f8AwaBSI5"
      },
      "source": [
        "### **Dopasowanie modelu do danych** metodą najmniejszych kwadratów (ang. *least-squares method*)"
      ]
    },
    {
      "cell_type": "code",
      "execution_count": 1,
      "metadata": {
        "id": "hO2mBBprCOUj"
      },
      "outputs": [],
      "source": [
        "import numpy as np\n",
        "import matplotlib.pyplot as plt\n",
        "import pandas as pd"
      ]
    },
    {
      "cell_type": "markdown",
      "metadata": {
        "id": "HZqTAaScBwKI"
      },
      "source": [
        "**Zbiór danych** (ang. *dataset*) został opracowany na podstawie: <br>\n",
        "[Eurostat](https://ec.europa.eu/eurostat/data/database), [World Happiness Report](https://worldhappiness.report/) <br>\n",
        "Dla każdego państwa w Europie zestawiamy dwa rodzaje pomiarów/cech (ang. *features*): PKB na osobę i poczucie szczęścia obywatela."
      ]
    },
    {
      "cell_type": "code",
      "execution_count": 2,
      "metadata": {
        "colab": {
          "base_uri": "https://localhost:8080/",
          "height": 1000
        },
        "id": "W9b1XgKFBa-r",
        "outputId": "bc58f0b2-41a2-40d4-cb38-27fd513c12f2"
      },
      "outputs": [
        {
          "name": "stdout",
          "output_type": "stream",
          "text": [
            "Plik GDP_happiness.csv już jest na dysku\n"
          ]
        },
        {
          "data": {
            "text/html": [
              "<div>\n",
              "<style scoped>\n",
              "    .dataframe tbody tr th:only-of-type {\n",
              "        vertical-align: middle;\n",
              "    }\n",
              "\n",
              "    .dataframe tbody tr th {\n",
              "        vertical-align: top;\n",
              "    }\n",
              "\n",
              "    .dataframe thead th {\n",
              "        text-align: right;\n",
              "    }\n",
              "</style>\n",
              "<table border=\"1\" class=\"dataframe\">\n",
              "  <thead>\n",
              "    <tr style=\"text-align: right;\">\n",
              "      <th></th>\n",
              "      <th>GDP per capita</th>\n",
              "      <th>happiness</th>\n",
              "    </tr>\n",
              "  </thead>\n",
              "  <tbody>\n",
              "    <tr>\n",
              "      <th>Belgium</th>\n",
              "      <td>133.0</td>\n",
              "      <td>6.864</td>\n",
              "    </tr>\n",
              "    <tr>\n",
              "      <th>Bulgaria</th>\n",
              "      <td>28.2</td>\n",
              "      <td>5.102</td>\n",
              "    </tr>\n",
              "    <tr>\n",
              "      <th>Czech Republic</th>\n",
              "      <td>67.4</td>\n",
              "      <td>6.911</td>\n",
              "    </tr>\n",
              "    <tr>\n",
              "      <th>Denmark</th>\n",
              "      <td>172.5</td>\n",
              "      <td>7.646</td>\n",
              "    </tr>\n",
              "    <tr>\n",
              "      <th>Germany</th>\n",
              "      <td>133.2</td>\n",
              "      <td>7.076</td>\n",
              "    </tr>\n",
              "    <tr>\n",
              "      <th>Estonia</th>\n",
              "      <td>68.1</td>\n",
              "      <td>6.022</td>\n",
              "    </tr>\n",
              "    <tr>\n",
              "      <th>Ireland</th>\n",
              "      <td>231.9</td>\n",
              "      <td>7.094</td>\n",
              "    </tr>\n",
              "    <tr>\n",
              "      <th>Greece</th>\n",
              "      <td>54.9</td>\n",
              "      <td>5.515</td>\n",
              "    </tr>\n",
              "    <tr>\n",
              "      <th>Spain</th>\n",
              "      <td>84.8</td>\n",
              "      <td>6.401</td>\n",
              "    </tr>\n",
              "    <tr>\n",
              "      <th>France</th>\n",
              "      <td>115.4</td>\n",
              "      <td>6.664</td>\n",
              "    </tr>\n",
              "    <tr>\n",
              "      <th>Croatia</th>\n",
              "      <td>42.8</td>\n",
              "      <td>5.505</td>\n",
              "    </tr>\n",
              "    <tr>\n",
              "      <th>Italy</th>\n",
              "      <td>95.2</td>\n",
              "      <td>6.387</td>\n",
              "    </tr>\n",
              "    <tr>\n",
              "      <th>Cyprus</th>\n",
              "      <td>81.2</td>\n",
              "      <td>6.159</td>\n",
              "    </tr>\n",
              "    <tr>\n",
              "      <th>Lithuania</th>\n",
              "      <td>56.0</td>\n",
              "      <td>6.215</td>\n",
              "    </tr>\n",
              "    <tr>\n",
              "      <th>Luxembourg</th>\n",
              "      <td>327.9</td>\n",
              "      <td>7.238</td>\n",
              "    </tr>\n",
              "    <tr>\n",
              "      <th>Hungary</th>\n",
              "      <td>48.0</td>\n",
              "      <td>6.000</td>\n",
              "    </tr>\n",
              "    <tr>\n",
              "      <th>Malta</th>\n",
              "      <td>85.6</td>\n",
              "      <td>6.773</td>\n",
              "    </tr>\n",
              "    <tr>\n",
              "      <th>Netherlands</th>\n",
              "      <td>149.9</td>\n",
              "      <td>7.449</td>\n",
              "    </tr>\n",
              "    <tr>\n",
              "      <th>Austria</th>\n",
              "      <td>143.7</td>\n",
              "      <td>7.294</td>\n",
              "    </tr>\n",
              "    <tr>\n",
              "      <th>Poland</th>\n",
              "      <td>44.5</td>\n",
              "      <td>6.186</td>\n",
              "    </tr>\n",
              "    <tr>\n",
              "      <th>Portugal</th>\n",
              "      <td>66.5</td>\n",
              "      <td>5.911</td>\n",
              "    </tr>\n",
              "    <tr>\n",
              "      <th>Romania</th>\n",
              "      <td>37.0</td>\n",
              "      <td>6.124</td>\n",
              "    </tr>\n",
              "    <tr>\n",
              "      <th>Slovenia</th>\n",
              "      <td>74.3</td>\n",
              "      <td>6.363</td>\n",
              "    </tr>\n",
              "    <tr>\n",
              "      <th>Slovakia</th>\n",
              "      <td>55.2</td>\n",
              "      <td>6.281</td>\n",
              "    </tr>\n",
              "    <tr>\n",
              "      <th>Finland</th>\n",
              "      <td>139.8</td>\n",
              "      <td>7.809</td>\n",
              "    </tr>\n",
              "    <tr>\n",
              "      <th>Sweden</th>\n",
              "      <td>148.1</td>\n",
              "      <td>7.353</td>\n",
              "    </tr>\n",
              "    <tr>\n",
              "      <th>Great Britain</th>\n",
              "      <td>121.2</td>\n",
              "      <td>7.165</td>\n",
              "    </tr>\n",
              "    <tr>\n",
              "      <th>Iceland</th>\n",
              "      <td>195.7</td>\n",
              "      <td>7.504</td>\n",
              "    </tr>\n",
              "    <tr>\n",
              "      <th>Norway</th>\n",
              "      <td>217.3</td>\n",
              "      <td>7.488</td>\n",
              "    </tr>\n",
              "    <tr>\n",
              "      <th>Switzerland</th>\n",
              "      <td>244.5</td>\n",
              "      <td>7.560</td>\n",
              "    </tr>\n",
              "    <tr>\n",
              "      <th>Montenegro</th>\n",
              "      <td>25.5</td>\n",
              "      <td>5.546</td>\n",
              "    </tr>\n",
              "    <tr>\n",
              "      <th>Albania</th>\n",
              "      <td>15.3</td>\n",
              "      <td>4.883</td>\n",
              "    </tr>\n",
              "    <tr>\n",
              "      <th>Serbia</th>\n",
              "      <td>21.2</td>\n",
              "      <td>5.778</td>\n",
              "    </tr>\n",
              "    <tr>\n",
              "      <th>Turkey</th>\n",
              "      <td>26.4</td>\n",
              "      <td>5.132</td>\n",
              "    </tr>\n",
              "    <tr>\n",
              "      <th>Latvia</th>\n",
              "      <td>NaN</td>\n",
              "      <td>5.950</td>\n",
              "    </tr>\n",
              "  </tbody>\n",
              "</table>\n",
              "</div>"
            ],
            "text/plain": [
              "                GDP per capita  happiness\n",
              "Belgium                  133.0      6.864\n",
              "Bulgaria                  28.2      5.102\n",
              "Czech Republic            67.4      6.911\n",
              "Denmark                  172.5      7.646\n",
              "Germany                  133.2      7.076\n",
              "Estonia                   68.1      6.022\n",
              "Ireland                  231.9      7.094\n",
              "Greece                    54.9      5.515\n",
              "Spain                     84.8      6.401\n",
              "France                   115.4      6.664\n",
              "Croatia                   42.8      5.505\n",
              "Italy                     95.2      6.387\n",
              "Cyprus                    81.2      6.159\n",
              "Lithuania                 56.0      6.215\n",
              "Luxembourg               327.9      7.238\n",
              "Hungary                   48.0      6.000\n",
              "Malta                     85.6      6.773\n",
              "Netherlands              149.9      7.449\n",
              "Austria                  143.7      7.294\n",
              "Poland                    44.5      6.186\n",
              "Portugal                  66.5      5.911\n",
              "Romania                   37.0      6.124\n",
              "Slovenia                  74.3      6.363\n",
              "Slovakia                  55.2      6.281\n",
              "Finland                  139.8      7.809\n",
              "Sweden                   148.1      7.353\n",
              "Great Britain            121.2      7.165\n",
              "Iceland                  195.7      7.504\n",
              "Norway                   217.3      7.488\n",
              "Switzerland              244.5      7.560\n",
              "Montenegro                25.5      5.546\n",
              "Albania                   15.3      4.883\n",
              "Serbia                    21.2      5.778\n",
              "Turkey                    26.4      5.132\n",
              "Latvia                     NaN      5.950"
            ]
          },
          "metadata": {},
          "output_type": "display_data"
        }
      ],
      "source": [
        "import urllib.request\n",
        "import os\n",
        "\n",
        "plik = 'GDP_happiness.csv'\n",
        "URL = \"https://byes.pl/wp-content/uploads/datasets/\" + plik\n",
        "if not os.path.isfile(plik):\n",
        "    print('Pobieram plik z ', URL)\n",
        "    urllib.request.urlretrieve(URL, plik)\n",
        "    print('Pobrano plik')\n",
        "else:\n",
        "    print(f'Plik {plik} już jest na dysku')\n",
        "\n",
        "dane = pd.read_csv(plik, index_col=[0])\n",
        "\n",
        "display(dane)"
      ]
    },
    {
      "attachments": {},
      "cell_type": "markdown",
      "metadata": {
        "id": "ydspvRsHClg1"
      },
      "source": [
        "**Oczyszczanie danych** <br>\n",
        "Dane dotyczące poczucia szczęścia pobierałem automatem z pliku i pdf i akurat Łotwa została niepoprawnie odczytana. Brakujące dane zostaną uzupełnione średnią z pozostałych dostępnych pomiarów. <br>"
      ]
    },
    {
      "cell_type": "code",
      "execution_count": 3,
      "metadata": {
        "colab": {
          "base_uri": "https://localhost:8080/",
          "height": 206
        },
        "id": "AwdYubF9CVYF",
        "outputId": "1e5754ff-1ca0-483a-84aa-2ca3fa3a8d05"
      },
      "outputs": [
        {
          "data": {
            "text/html": [
              "<div>\n",
              "<style scoped>\n",
              "    .dataframe tbody tr th:only-of-type {\n",
              "        vertical-align: middle;\n",
              "    }\n",
              "\n",
              "    .dataframe tbody tr th {\n",
              "        vertical-align: top;\n",
              "    }\n",
              "\n",
              "    .dataframe thead th {\n",
              "        text-align: right;\n",
              "    }\n",
              "</style>\n",
              "<table border=\"1\" class=\"dataframe\">\n",
              "  <thead>\n",
              "    <tr style=\"text-align: right;\">\n",
              "      <th></th>\n",
              "      <th>GDP per capita</th>\n",
              "      <th>happiness</th>\n",
              "    </tr>\n",
              "  </thead>\n",
              "  <tbody>\n",
              "    <tr>\n",
              "      <th>Montenegro</th>\n",
              "      <td>25.500000</td>\n",
              "      <td>5.546</td>\n",
              "    </tr>\n",
              "    <tr>\n",
              "      <th>Albania</th>\n",
              "      <td>15.300000</td>\n",
              "      <td>4.883</td>\n",
              "    </tr>\n",
              "    <tr>\n",
              "      <th>Serbia</th>\n",
              "      <td>21.200000</td>\n",
              "      <td>5.778</td>\n",
              "    </tr>\n",
              "    <tr>\n",
              "      <th>Turkey</th>\n",
              "      <td>26.400000</td>\n",
              "      <td>5.132</td>\n",
              "    </tr>\n",
              "    <tr>\n",
              "      <th>Latvia</th>\n",
              "      <td>104.476471</td>\n",
              "      <td>5.950</td>\n",
              "    </tr>\n",
              "  </tbody>\n",
              "</table>\n",
              "</div>"
            ],
            "text/plain": [
              "            GDP per capita  happiness\n",
              "Montenegro       25.500000      5.546\n",
              "Albania          15.300000      4.883\n",
              "Serbia           21.200000      5.778\n",
              "Turkey           26.400000      5.132\n",
              "Latvia          104.476471      5.950"
            ]
          },
          "execution_count": 3,
          "metadata": {},
          "output_type": "execute_result"
        }
      ],
      "source": [
        "dane = dane.fillna(dane.mean(axis=0))\n",
        "dane.tail()"
      ]
    },
    {
      "attachments": {},
      "cell_type": "markdown",
      "metadata": {
        "id": "ZUOPG7qwEA3A"
      },
      "source": [
        "**Ćwiczenie 1**: Zastanów się w jaki inny sposób można leczyć objawowo zbiory zawierające brakujące wartości?"
      ]
    },
    {
      "cell_type": "code",
      "execution_count": 4,
      "metadata": {},
      "outputs": [
        {
          "data": {
            "text/html": [
              "<div>\n",
              "<style scoped>\n",
              "    .dataframe tbody tr th:only-of-type {\n",
              "        vertical-align: middle;\n",
              "    }\n",
              "\n",
              "    .dataframe tbody tr th {\n",
              "        vertical-align: top;\n",
              "    }\n",
              "\n",
              "    .dataframe thead th {\n",
              "        text-align: right;\n",
              "    }\n",
              "</style>\n",
              "<table border=\"1\" class=\"dataframe\">\n",
              "  <thead>\n",
              "    <tr style=\"text-align: right;\">\n",
              "      <th></th>\n",
              "      <th>GDP per capita</th>\n",
              "      <th>happiness</th>\n",
              "    </tr>\n",
              "  </thead>\n",
              "  <tbody>\n",
              "    <tr>\n",
              "      <th>Belgium</th>\n",
              "      <td>133.000000</td>\n",
              "      <td>6.864</td>\n",
              "    </tr>\n",
              "    <tr>\n",
              "      <th>Bulgaria</th>\n",
              "      <td>28.200000</td>\n",
              "      <td>5.102</td>\n",
              "    </tr>\n",
              "    <tr>\n",
              "      <th>Czech Republic</th>\n",
              "      <td>67.400000</td>\n",
              "      <td>6.911</td>\n",
              "    </tr>\n",
              "    <tr>\n",
              "      <th>Denmark</th>\n",
              "      <td>172.500000</td>\n",
              "      <td>7.646</td>\n",
              "    </tr>\n",
              "    <tr>\n",
              "      <th>Germany</th>\n",
              "      <td>133.200000</td>\n",
              "      <td>7.076</td>\n",
              "    </tr>\n",
              "    <tr>\n",
              "      <th>Estonia</th>\n",
              "      <td>68.100000</td>\n",
              "      <td>6.022</td>\n",
              "    </tr>\n",
              "    <tr>\n",
              "      <th>Ireland</th>\n",
              "      <td>231.900000</td>\n",
              "      <td>7.094</td>\n",
              "    </tr>\n",
              "    <tr>\n",
              "      <th>Greece</th>\n",
              "      <td>54.900000</td>\n",
              "      <td>5.515</td>\n",
              "    </tr>\n",
              "    <tr>\n",
              "      <th>Spain</th>\n",
              "      <td>84.800000</td>\n",
              "      <td>6.401</td>\n",
              "    </tr>\n",
              "    <tr>\n",
              "      <th>France</th>\n",
              "      <td>115.400000</td>\n",
              "      <td>6.664</td>\n",
              "    </tr>\n",
              "    <tr>\n",
              "      <th>Croatia</th>\n",
              "      <td>42.800000</td>\n",
              "      <td>5.505</td>\n",
              "    </tr>\n",
              "    <tr>\n",
              "      <th>Italy</th>\n",
              "      <td>95.200000</td>\n",
              "      <td>6.387</td>\n",
              "    </tr>\n",
              "    <tr>\n",
              "      <th>Cyprus</th>\n",
              "      <td>81.200000</td>\n",
              "      <td>6.159</td>\n",
              "    </tr>\n",
              "    <tr>\n",
              "      <th>Lithuania</th>\n",
              "      <td>56.000000</td>\n",
              "      <td>6.215</td>\n",
              "    </tr>\n",
              "    <tr>\n",
              "      <th>Luxembourg</th>\n",
              "      <td>327.900000</td>\n",
              "      <td>7.238</td>\n",
              "    </tr>\n",
              "    <tr>\n",
              "      <th>Hungary</th>\n",
              "      <td>48.000000</td>\n",
              "      <td>6.000</td>\n",
              "    </tr>\n",
              "    <tr>\n",
              "      <th>Malta</th>\n",
              "      <td>85.600000</td>\n",
              "      <td>6.773</td>\n",
              "    </tr>\n",
              "    <tr>\n",
              "      <th>Netherlands</th>\n",
              "      <td>149.900000</td>\n",
              "      <td>7.449</td>\n",
              "    </tr>\n",
              "    <tr>\n",
              "      <th>Austria</th>\n",
              "      <td>143.700000</td>\n",
              "      <td>7.294</td>\n",
              "    </tr>\n",
              "    <tr>\n",
              "      <th>Poland</th>\n",
              "      <td>44.500000</td>\n",
              "      <td>6.186</td>\n",
              "    </tr>\n",
              "    <tr>\n",
              "      <th>Portugal</th>\n",
              "      <td>66.500000</td>\n",
              "      <td>5.911</td>\n",
              "    </tr>\n",
              "    <tr>\n",
              "      <th>Romania</th>\n",
              "      <td>37.000000</td>\n",
              "      <td>6.124</td>\n",
              "    </tr>\n",
              "    <tr>\n",
              "      <th>Slovenia</th>\n",
              "      <td>74.300000</td>\n",
              "      <td>6.363</td>\n",
              "    </tr>\n",
              "    <tr>\n",
              "      <th>Slovakia</th>\n",
              "      <td>55.200000</td>\n",
              "      <td>6.281</td>\n",
              "    </tr>\n",
              "    <tr>\n",
              "      <th>Finland</th>\n",
              "      <td>139.800000</td>\n",
              "      <td>7.809</td>\n",
              "    </tr>\n",
              "    <tr>\n",
              "      <th>Sweden</th>\n",
              "      <td>148.100000</td>\n",
              "      <td>7.353</td>\n",
              "    </tr>\n",
              "    <tr>\n",
              "      <th>Great Britain</th>\n",
              "      <td>121.200000</td>\n",
              "      <td>7.165</td>\n",
              "    </tr>\n",
              "    <tr>\n",
              "      <th>Iceland</th>\n",
              "      <td>195.700000</td>\n",
              "      <td>7.504</td>\n",
              "    </tr>\n",
              "    <tr>\n",
              "      <th>Norway</th>\n",
              "      <td>217.300000</td>\n",
              "      <td>7.488</td>\n",
              "    </tr>\n",
              "    <tr>\n",
              "      <th>Switzerland</th>\n",
              "      <td>244.500000</td>\n",
              "      <td>7.560</td>\n",
              "    </tr>\n",
              "    <tr>\n",
              "      <th>Montenegro</th>\n",
              "      <td>25.500000</td>\n",
              "      <td>5.546</td>\n",
              "    </tr>\n",
              "    <tr>\n",
              "      <th>Albania</th>\n",
              "      <td>15.300000</td>\n",
              "      <td>4.883</td>\n",
              "    </tr>\n",
              "    <tr>\n",
              "      <th>Serbia</th>\n",
              "      <td>21.200000</td>\n",
              "      <td>5.778</td>\n",
              "    </tr>\n",
              "    <tr>\n",
              "      <th>Turkey</th>\n",
              "      <td>26.400000</td>\n",
              "      <td>5.132</td>\n",
              "    </tr>\n",
              "    <tr>\n",
              "      <th>Latvia</th>\n",
              "      <td>104.476471</td>\n",
              "      <td>5.950</td>\n",
              "    </tr>\n",
              "  </tbody>\n",
              "</table>\n",
              "</div>"
            ],
            "text/plain": [
              "                GDP per capita  happiness\n",
              "Belgium             133.000000      6.864\n",
              "Bulgaria             28.200000      5.102\n",
              "Czech Republic       67.400000      6.911\n",
              "Denmark             172.500000      7.646\n",
              "Germany             133.200000      7.076\n",
              "Estonia              68.100000      6.022\n",
              "Ireland             231.900000      7.094\n",
              "Greece               54.900000      5.515\n",
              "Spain                84.800000      6.401\n",
              "France              115.400000      6.664\n",
              "Croatia              42.800000      5.505\n",
              "Italy                95.200000      6.387\n",
              "Cyprus               81.200000      6.159\n",
              "Lithuania            56.000000      6.215\n",
              "Luxembourg          327.900000      7.238\n",
              "Hungary              48.000000      6.000\n",
              "Malta                85.600000      6.773\n",
              "Netherlands         149.900000      7.449\n",
              "Austria             143.700000      7.294\n",
              "Poland               44.500000      6.186\n",
              "Portugal             66.500000      5.911\n",
              "Romania              37.000000      6.124\n",
              "Slovenia             74.300000      6.363\n",
              "Slovakia             55.200000      6.281\n",
              "Finland             139.800000      7.809\n",
              "Sweden              148.100000      7.353\n",
              "Great Britain       121.200000      7.165\n",
              "Iceland             195.700000      7.504\n",
              "Norway              217.300000      7.488\n",
              "Switzerland         244.500000      7.560\n",
              "Montenegro           25.500000      5.546\n",
              "Albania              15.300000      4.883\n",
              "Serbia               21.200000      5.778\n",
              "Turkey               26.400000      5.132\n",
              "Latvia              104.476471      5.950"
            ]
          },
          "execution_count": 4,
          "metadata": {},
          "output_type": "execute_result"
        }
      ],
      "source": [
        "dane.dropna()"
      ]
    },
    {
      "attachments": {},
      "cell_type": "markdown",
      "metadata": {
        "id": "ncw9lgp2Eb8U"
      },
      "source": [
        "Ramka danych jest strukturą pośredniczącą między różnymi rodzajami źródeł danych, a metodami przetwarzania/analizy danych. <br>\n",
        "Z ramki zostaną wybrane dwie serie, wartości których trafią do osobnych tabel: "
      ]
    },
    {
      "cell_type": "code",
      "execution_count": 5,
      "metadata": {
        "id": "edHLQ4PiEBQ9"
      },
      "outputs": [],
      "source": [
        "X = dane['GDP per capita'].values\n",
        "Y = dane['happiness'].values\n",
        "\n"
      ]
    },
    {
      "attachments": {},
      "cell_type": "markdown",
      "metadata": {
        "id": "sEPsq97HFvG0"
      },
      "source": [
        "**Wizualizacja danych** <br>\n",
        "Można to zrobić biblioteką ```matplotlib```, ale to już znasz. Warto poznać możliwości biblioteki ```seaborn```, która pozwala na szybkie generowanie wizualizacji o jakości nadającej się do publikacji (ang. *publication quality*)."
      ]
    },
    {
      "cell_type": "code",
      "execution_count": 6,
      "metadata": {
        "colab": {
          "base_uri": "https://localhost:8080/",
          "height": 388
        },
        "id": "IKh5kEfkEO7o",
        "outputId": "f74e32a0-2aff-4688-de4d-464ad94282c3"
      },
      "outputs": [
        {
          "data": {
            "image/png": "[encoded data removed]",
            "text/plain": [
              "<Figure size 600x600 with 1 Axes>"
            ]
          },
          "metadata": {},
          "output_type": "display_data"
        }
      ],
      "source": [
        "import seaborn as sns\n",
        "\n",
        "plt.figure(figsize=(6,6))\n",
        "x = sns.scatterplot(\n",
        "    x='GDP per capita',\n",
        "    y='happiness',\n",
        "    data=dane,\n",
        "    hue='happiness',\n",
        "    size='GDP per capita',\n",
        "    sizes=(20, 200),\n",
        "    legend='brief',\n",
        ")\n",
        "plt.show()"
      ]
    },
    {
      "attachments": {},
      "cell_type": "markdown",
      "metadata": {
        "id": "a92PgZgqG-MM"
      },
      "source": [
        "**Ćwiczenie 2**: Jak w świetle przedstawionych danych oceniasz mądrość ludową *pieniądze szczęścia nie dają*?"
      ]
    },
    {
      "cell_type": "code",
      "execution_count": null,
      "metadata": {},
      "outputs": [],
      "source": [
        "# pieniądze szczęscia nie dają tylko luksus \n",
        "# w małym stopniu pkb na osobę wpływa na szczęście"
      ]
    },
    {
      "cell_type": "markdown",
      "metadata": {},
      "source": [
        "**Ćwiczenie 3**: Zwizualizuj przy uzyciu biblioteki seaborn dane dotyczące szczęścia w poszczególnych krajach (barplot). Wyniki przedstaw w porządku malejącym."
      ]
    },
    {
      "cell_type": "code",
      "execution_count": 7,
      "metadata": {},
      "outputs": [
        {
          "name": "stdout",
          "output_type": "stream",
          "text": [
            "                GDP per capita  happiness\n",
            "Finland             139.800000      7.809\n",
            "Denmark             172.500000      7.646\n",
            "Switzerland         244.500000      7.560\n",
            "Iceland             195.700000      7.504\n",
            "Norway              217.300000      7.488\n",
            "Netherlands         149.900000      7.449\n",
            "Sweden              148.100000      7.353\n",
            "Austria             143.700000      7.294\n",
            "Luxembourg          327.900000      7.238\n",
            "Great Britain       121.200000      7.165\n",
            "Ireland             231.900000      7.094\n",
            "Germany             133.200000      7.076\n",
            "Czech Republic       67.400000      6.911\n",
            "Belgium             133.000000      6.864\n",
            "Malta                85.600000      6.773\n",
            "France              115.400000      6.664\n",
            "Spain                84.800000      6.401\n",
            "Italy                95.200000      6.387\n",
            "Slovenia             74.300000      6.363\n",
            "Slovakia             55.200000      6.281\n",
            "Lithuania            56.000000      6.215\n",
            "Poland               44.500000      6.186\n",
            "Cyprus               81.200000      6.159\n",
            "Romania              37.000000      6.124\n",
            "Estonia              68.100000      6.022\n",
            "Hungary              48.000000      6.000\n",
            "Latvia              104.476471      5.950\n",
            "Portugal             66.500000      5.911\n",
            "Serbia               21.200000      5.778\n",
            "Montenegro           25.500000      5.546\n",
            "Greece               54.900000      5.515\n",
            "Croatia              42.800000      5.505\n",
            "Turkey               26.400000      5.132\n",
            "Bulgaria             28.200000      5.102\n",
            "Albania              15.300000      4.883\n"
          ]
        },
        {
          "data": {
            "image/png": "[encoded data removed]",
            "text/plain": [
              "<Figure size 640x480 with 1 Axes>"
            ]
          },
          "metadata": {},
          "output_type": "display_data"
        }
      ],
      "source": [
        "print(dane.sort_values(by=\"happiness\",ascending=False))\n",
        "sns.barplot(x='GDP per capita',\n",
        "    y='happiness',\n",
        "    data=dane,\n",
        "    order = dane.sort_values(by=\"happiness\",ascending=False)[\"GDP per capita\"], \n",
        ")\n",
        "\n",
        "plt.show()"
      ]
    },
    {
      "cell_type": "markdown",
      "metadata": {
        "id": "cQ8ZcUC-Hc4n"
      },
      "source": [
        "**Dopasowanie do danych $\\{(x_i,y_i)\\}_{i=1}^N$ modelu** liniowego: $$\\overline{y} = ax+b,$$\n",
        "gdzie: <br>\n",
        "$x$ - PKB na osobę (ang. *GDP per capita*), <br>\n",
        "$y$ - poczucie szczęścia (ang. *hapiness*), <br>\n",
        "$\\overline{y}$ - przewidywana/wyliczona przez model wartość $y$ dla podanego $x$,<br>\n",
        "$a, b$ - parametry modelu. <br><br>\n",
        "Dane pomiarowe zmiennej wyjściowej można zebrać do macierzy:<br>\n",
        "$Y = \\begin{bmatrix} y_1 & y_2 & \\cdots & y_N \\end{bmatrix}$, <br>\n",
        "a tak zwane ,,predykcje'' (przybliżenia) modelu do macierzy:<br> \n",
        "$\\overline{Y} = \\begin{bmatrix} \\overline{y}_1 & \\overline{y}_2 & \\cdots & \\overline{y}_N \\end{bmatrix}$. <br>\n"
      ]
    },
    {
      "attachments": {},
      "cell_type": "markdown",
      "metadata": {
        "id": "putMa84PMwiL"
      },
      "source": [
        "**Ćwiczenie 4**: Spróbuj **metodą prób i błędów** dobrać wartości parametrów modelu $a$ i $b$ w taki sposób, aby model dobrze reprezentował dane, cokolwiek miałoby to znaczyć. Posłuż się poniższą komórką z kodem."
      ]
    },
    {
      "cell_type": "code",
      "execution_count": 8,
      "metadata": {
        "colab": {
          "base_uri": "https://localhost:8080/",
          "height": 283
        },
        "id": "rOyRS_OSNkWz",
        "outputId": "553f0b82-14ec-41c7-bd85-7ca9ccc6d043"
      },
      "outputs": [
        {
          "data": {
            "image/png": "[encoded data removed]",
            "text/plain": [
              "<Figure size 640x480 with 1 Axes>"
            ]
          },
          "metadata": {},
          "output_type": "display_data"
        }
      ],
      "source": [
        "def model(parametry, x):\n",
        "  a, b = parametry\n",
        "  return a * x + b\n",
        "\n",
        "# W tym miejscu wprowadzasz swoje oszacowania (ang. estimates) wartości parametrów modelu\n",
        "a_est, b_est = 0.011, 5\n",
        "\n",
        "# utwórz wartości x dla całego zakresu zmienności na osi x\n",
        "X_test = np.linspace(start=X[:-1].min(), stop=X[:-1].max(), num=300)\n",
        "# \"odpytaj\" model dla zakresu osi x objętego pomiarami\n",
        "Y_pred = model(parametry=[a_est, b_est], x=X_test)\n",
        "\n",
        "plt.scatter(X, Y)\n",
        "plt.plot(X_test, Y_pred, color='tab:orange')\n",
        "plt.xlabel('x - PKB na osobę', fontsize=14)\n",
        "plt.ylabel('y - poczucie szczęścia', fontsize=14)\n",
        "plt.show()"
      ]
    },
    {
      "cell_type": "markdown",
      "metadata": {
        "id": "oBY26XrPQANz"
      },
      "source": [
        "**Zastanów się**: co to właściwie znaczy, że jakieś zjawisko/proces ma charakter liniowy? Jak rozpoznać, że zjawisko/proces da się skutecznie opisywać modelem liniowym? <br>\n",
        "Czy zależność między PKB na osobę a poczuciem szczęścia jest liniowa?"
      ]
    },
    {
      "attachments": {},
      "cell_type": "markdown",
      "metadata": {
        "id": "TLGKHa2DWDsJ"
      },
      "source": [
        "**Błąd średniokwadratowy** <br>\n",
        "Niech błąd przybliżenia dla pojedynczej $i$-tej pary pomiarów wynosi:\n",
        "$$e_i=y_i-\\overline{y_i}.$$\n",
        "Wybierz jeden z poniższych wzorów jako miarę błędu popełnianego przez model na danych $X,Y$:\n",
        "\\begin{equation}\n",
        "Q(a,b) = \\sum_{i=1}^Ne_i^2 \\ ,\n",
        "\\tag{1}\n",
        "\\end{equation}\n",
        "\n",
        "\\begin{equation}\n",
        "Q(a,b) = \\frac{1}{N}\\sum_{i=1}^Ne_i^2 \\ ,\n",
        "\\tag{2}\n",
        "\\end{equation}\n",
        "\n",
        "\\begin{equation}\n",
        "Q(a,b) = \\frac{1}{N}\\sqrt{\\sum_{i=1}^Ne_i^2}\\ .\n",
        "\\tag{3}\n",
        "\\end{equation}"
      ]
    },
    {
      "attachments": {},
      "cell_type": "markdown",
      "metadata": {
        "id": "8MORrhCBYKYI"
      },
      "source": [
        "**Ćwiczenie 5:** Zmodyfikuj komórkę z kodem tak, aby wizualizacja modelu na tle danych była uzupełniona wartością błędu przybliżenia. <br>\n",
        "Dzięki temu metodę prób i błędów będzie można przeprowadzić bardziej precyzyjnie. <br>\n",
        "**Zastanów się**: jakie ma znaczenie, które z kryteriów jakości $(1)$, $(2)$, $(3)$ zostało użyte."
      ]
    },
    {
      "cell_type": "code",
      "execution_count": 9,
      "metadata": {},
      "outputs": [
        {
          "name": "stdout",
          "output_type": "stream",
          "text": [
            "8227.395406273437\n",
            "235.06844017924107\n",
            "2.5915711736277505\n"
          ]
        },
        {
          "data": {
            "image/png": "[encoded data removed]",
            "text/plain": [
              "<Figure size 640x480 with 1 Axes>"
            ]
          },
          "metadata": {},
          "output_type": "display_data"
        }
      ],
      "source": [
        "...\n",
        "\n",
        "from numpy import sqrt\n",
        "plt.scatter(X,Y)\n",
        "plt.plot(X_test, Y_pred, color='tab:orange')\n",
        "\n",
        "\n",
        "print(sum([(i-Y_pred[i])**2 for i in range(0,len(Y))]))\n",
        "print(1/len(Y)*sum([(i-Y_pred[i])**2 for i in range(0,len(Y))]))\n",
        "print(1/len(Y)*sqrt(sum([(i-Y_pred[i])**2 for i in range(0,len(Y))])))\n",
        "\n",
        "plt.xlabel('x - PKB na osobę', fontsize=14)\n",
        "plt.ylabel('y - poczucie szczęścia', fontsize=14)\n",
        "plt.errorbar(X, Y, yerr=(1/len(Y))*sqrt(sum([(i-Y_pred[i])**2 for i in range(0,len(Y))])), fmt='o', color='black')\n",
        "plt.show()"
      ]
    },
    {
      "attachments": {},
      "cell_type": "markdown",
      "metadata": {
        "id": "FkdL_Jxodihg"
      },
      "source": [
        "**Ćwiczenie 6:** Poniżej znajduje się kopia ostatniej komórki. Jedyna różnica jest teraz taka, że trzeba **wyznaczyć parametry modelu sposobem analitycznym**.\n",
        "\n",
        "Odpowiednie wzory powinny były pojawić się już na ćwiczeniach z tego kursu. Możesz również dodać wyznaczenie wartości kryterium jakości i porównać uzyskaną wartość z tą, którą udało Ci się osiągnąć metodą prób i błędów. <br>\n",
        "**Zastanów się**: czy jest możliwe osiągnięcie wyniku lepszego niż zwraca metoda analityczna?"
      ]
    },
    {
      "cell_type": "code",
      "execution_count": 12,
      "metadata": {},
      "outputs": [
        {
          "name": "stdout",
          "output_type": "stream",
          "text": [
            "y = 1 * x + 1\n"
          ]
        },
        {
          "data": {
            "image/png": "[encoded data removed]",
            "text/plain": [
              "<Figure size 640x480 with 1 Axes>"
            ]
          },
          "metadata": {},
          "output_type": "display_data"
        }
      ],
      "source": [
        "def model(parametry, x):\n",
        "  a, b = parametry\n",
        "  return a * x + b\n",
        "\n",
        "#  w tym miejscu wprowadzasz wzory analityczne np. https://www.statystyczny.pl/regresja-liniowa/\n",
        "\n",
        "a_est = 1\n",
        "b_est = 1\n",
        "\n",
        "print(f\"y = {a_est} * x + {b_est}\")\n",
        "\n",
        "# utwórz wartości x dla całego zakresu zmienności na osi x\n",
        "X_test = np.linspace(start=X.min(), stop=X.max(), num=300)\n",
        "# \"odpytaj\" model dla zakresu osi x objętego pomiarami\n",
        "Y_pred = model(parametry=[a_est, b_est], x=X_test)\n",
        "\n",
        "plt.scatter(X,Y)\n",
        "plt.plot(X_test, Y_pred, color='tab:orange')\n",
        "plt.xlabel('x - PKB na osobę', fontsize=14)\n",
        "plt.ylabel('y - poczucie szczęścia', fontsize=14)\n",
        "plt.show()"
      ]
    },
    {
      "attachments": {},
      "cell_type": "markdown",
      "metadata": {
        "id": "6JOnfnFXLxmv"
      },
      "source": [
        "**Ćwiczenie 7:** Zastosuj poznany na ćwiczeniach algorytm analityczny do estymacji parametrów modelu liniowego:\n",
        "\\begin{equation}\n",
        "\\widehat{\\theta} = (XX^T)^{-1} XY^T, \n",
        "\\tag{4}\n",
        "\\end{equation}\n",
        "gdzie $\\theta = \\begin{bmatrix} a \\\\ b \\end{bmatrix}$. Przemyśl konstrukcję macierzy $X$. Implementacja wzoru (4) powinna zająć jedną linijkę kodu."
      ]
    },
    {
      "cell_type": "code",
      "execution_count": 38,
      "metadata": {
        "id": "DM-mS62_dqij"
      },
      "outputs": [
        {
          "name": "stdout",
          "output_type": "stream",
          "text": [
            "35\n"
          ]
        },
        {
          "ename": "LinAlgError",
          "evalue": "Singular matrix",
          "output_type": "error",
          "traceback": [
            "\u001b[0;31m---------------------------------------------------------------------------\u001b[0m",
            "\u001b[0;31mLinAlgError\u001b[0m                               Traceback (most recent call last)",
            "Cell \u001b[0;32mIn[38], line 24\u001b[0m\n\u001b[1;32m     20\u001b[0m   plt\u001b[38;5;241m.\u001b[39mshow()\n\u001b[1;32m     22\u001b[0m \u001b[38;5;28mprint\u001b[39m(\u001b[38;5;28mlen\u001b[39m(np\u001b[38;5;241m.\u001b[39mdot(X\u001b[38;5;241m.\u001b[39mreshape(\u001b[38;5;241m-\u001b[39m\u001b[38;5;241m1\u001b[39m,\u001b[38;5;241m1\u001b[39m),np\u001b[38;5;241m.\u001b[39mtranspose(X\u001b[38;5;241m.\u001b[39mreshape(\u001b[38;5;241m-\u001b[39m\u001b[38;5;241m1\u001b[39m,\u001b[38;5;241m1\u001b[39m)) )[\u001b[38;5;241m1\u001b[39m]) )\n\u001b[1;32m     23\u001b[0m T \u001b[38;5;241m=\u001b[39m np\u001b[38;5;241m.\u001b[39mmultiply( \n\u001b[0;32m---> 24\u001b[0m                 \u001b[43mnp\u001b[49m\u001b[38;5;241;43m.\u001b[39;49m\u001b[43mlinalg\u001b[49m\u001b[38;5;241;43m.\u001b[39;49m\u001b[43minv\u001b[49m\u001b[43m(\u001b[49m\u001b[43mnp\u001b[49m\u001b[38;5;241;43m.\u001b[39;49m\u001b[43mdot\u001b[49m\u001b[43m(\u001b[49m\u001b[43mX\u001b[49m\u001b[38;5;241;43m.\u001b[39;49m\u001b[43mreshape\u001b[49m\u001b[43m(\u001b[49m\u001b[38;5;241;43m-\u001b[39;49m\u001b[38;5;241;43m1\u001b[39;49m\u001b[43m,\u001b[49m\u001b[38;5;241;43m1\u001b[39;49m\u001b[43m)\u001b[49m\u001b[43m,\u001b[49m\u001b[43mnp\u001b[49m\u001b[38;5;241;43m.\u001b[39;49m\u001b[43mtranspose\u001b[49m\u001b[43m(\u001b[49m\u001b[43mX\u001b[49m\u001b[38;5;241;43m.\u001b[39;49m\u001b[43mreshape\u001b[49m\u001b[43m(\u001b[49m\u001b[38;5;241;43m-\u001b[39;49m\u001b[38;5;241;43m1\u001b[39;49m\u001b[43m,\u001b[49m\u001b[38;5;241;43m1\u001b[39;49m\u001b[43m)\u001b[49m\u001b[43m)\u001b[49m\u001b[43m \u001b[49m\u001b[43m)\u001b[49m\u001b[43m)\u001b[49m, \n\u001b[1;32m     25\u001b[0m                 np\u001b[38;5;241m.\u001b[39mdot(X\u001b[38;5;241m.\u001b[39mreshape(\u001b[38;5;241m-\u001b[39m\u001b[38;5;241m1\u001b[39m,\u001b[38;5;241m1\u001b[39m), np\u001b[38;5;241m.\u001b[39mtranspose(Y\u001b[38;5;241m.\u001b[39mreshape(\u001b[38;5;241m-\u001b[39m\u001b[38;5;241m1\u001b[39m,\u001b[38;5;241m1\u001b[39m))))\n\u001b[1;32m     26\u001b[0m \u001b[38;5;66;03m# T = np.multiply( np.linalg.inv(np.multiply(X,np.transpose(X))), np.multiply(X, np.transpose(Y)))\u001b[39;00m\n\u001b[1;32m     27\u001b[0m \u001b[38;5;66;03m# print(T)\u001b[39;00m\n\u001b[1;32m     28\u001b[0m \u001b[38;5;66;03m# plot_fig(X, Y, T)\u001b[39;00m\n",
            "File \u001b[0;32m/usr/lib/python3.11/site-packages/numpy/linalg/linalg.py:561\u001b[0m, in \u001b[0;36minv\u001b[0;34m(a)\u001b[0m\n\u001b[1;32m    559\u001b[0m signature \u001b[38;5;241m=\u001b[39m \u001b[38;5;124m'\u001b[39m\u001b[38;5;124mD->D\u001b[39m\u001b[38;5;124m'\u001b[39m \u001b[38;5;28;01mif\u001b[39;00m isComplexType(t) \u001b[38;5;28;01melse\u001b[39;00m \u001b[38;5;124m'\u001b[39m\u001b[38;5;124md->d\u001b[39m\u001b[38;5;124m'\u001b[39m\n\u001b[1;32m    560\u001b[0m extobj \u001b[38;5;241m=\u001b[39m get_linalg_error_extobj(_raise_linalgerror_singular)\n\u001b[0;32m--> 561\u001b[0m ainv \u001b[38;5;241m=\u001b[39m \u001b[43m_umath_linalg\u001b[49m\u001b[38;5;241;43m.\u001b[39;49m\u001b[43minv\u001b[49m\u001b[43m(\u001b[49m\u001b[43ma\u001b[49m\u001b[43m,\u001b[49m\u001b[43m \u001b[49m\u001b[43msignature\u001b[49m\u001b[38;5;241;43m=\u001b[39;49m\u001b[43msignature\u001b[49m\u001b[43m,\u001b[49m\u001b[43m \u001b[49m\u001b[43mextobj\u001b[49m\u001b[38;5;241;43m=\u001b[39;49m\u001b[43mextobj\u001b[49m\u001b[43m)\u001b[49m\n\u001b[1;32m    562\u001b[0m \u001b[38;5;28;01mreturn\u001b[39;00m wrap(ainv\u001b[38;5;241m.\u001b[39mastype(result_t, copy\u001b[38;5;241m=\u001b[39m\u001b[38;5;28;01mFalse\u001b[39;00m))\n",
            "File \u001b[0;32m/usr/lib/python3.11/site-packages/numpy/linalg/linalg.py:112\u001b[0m, in \u001b[0;36m_raise_linalgerror_singular\u001b[0;34m(err, flag)\u001b[0m\n\u001b[1;32m    111\u001b[0m \u001b[38;5;28;01mdef\u001b[39;00m \u001b[38;5;21m_raise_linalgerror_singular\u001b[39m(err, flag):\n\u001b[0;32m--> 112\u001b[0m     \u001b[38;5;28;01mraise\u001b[39;00m LinAlgError(\u001b[38;5;124m\"\u001b[39m\u001b[38;5;124mSingular matrix\u001b[39m\u001b[38;5;124m\"\u001b[39m)\n",
            "\u001b[0;31mLinAlgError\u001b[0m: Singular matrix"
          ]
        }
      ],
      "source": [
        "def model(parametry, x):\n",
        "  a, b = parametry\n",
        "  return a * x + b\n",
        "\n",
        "\n",
        "\n",
        "def plot_fig(X: np.ndarray, Y: np.ndarray, coeff: np.ndarray):\n",
        "  X_test = np.linspace(start=X.min(), stop=X.max(), num=300)\n",
        "  func_str = \"y = \"\n",
        "  Y_pred = model(coeff, X_test)\n",
        "  for i, c in enumerate(coeff.ravel()[::-1]):\n",
        "      func_str += f\"{round(c, 4)} * x ** {i} + \"\n",
        "\n",
        "  plt.scatter(X, Y, label='dane rzeczywiste')\n",
        "  plt.plot(X_test, Y_pred, color='tab:orange', label='estymowany trend')\n",
        "  plt.xlabel('x - PKB na osobę', fontsize=14)\n",
        "  plt.ylabel('y - poczucie szczęścia', fontsize=14)\n",
        "  plt.title(f\"Dopasowano funkcję: {func_str[:-2]}\")\n",
        "  plt.legend()\n",
        "  plt.show()\n",
        "\n",
        "# print(len(np.dot(X.reshape(-1,1),np.transpose(X.reshape(-1,1)) )) )\n",
        "# T = np.multiply( \n",
        "#                 np.linalg.inv(np.dot(X.reshape(-1,1),np.transpose(X.reshape(-1,1)) )), \n",
        "#                 np.dot(X.reshape(-1,1), np.transpose(Y.reshape(-1,1))))\n",
        "# T = np.multiply( np.linalg.inv(np.multiply(X,np.transpose(X))), np.multiply(X, np.transpose(Y)))\n",
        "# print(T)\n",
        "# plot_fig(X, Y, T)"
      ]
    },
    {
      "cell_type": "markdown",
      "metadata": {
        "id": "60tDMmnklFLV"
      },
      "source": [
        "Gdy poznasz procedury optymalizacji numerycznej (zajęcia numer 5), będziesz w stanie dopasowywać do danych modele, które nie dadzą się zapisać jako liniowe względem parametrów."
      ]
    },
    {
      "cell_type": "markdown",
      "metadata": {
        "id": "G0FSBweSqvyp"
      },
      "source": [
        "### Generator sztucznych danych\n",
        "Metoda najmniejszych kwadratów zasługuje w pełni na swoją nazwę dopiero w warunkach losowych (zmienna wyjściowa $y$ mierzona jest przy obecności zakłóceń). <br>\n",
        "Poniżej znajduje się kod generatora sztucznych danych, którym można się posłużyć do badania własności samej metody najmniejszych kwadratów. <br>\n",
        "Generator losuje zestaw $\\{x_i\\}_{i=1}^N$ z zadanego rozkładu, następnie oblicza ,,idealne'' wartości wyjść z podanego modelu:\n",
        "$$ \\overline{y}_i = F(\\theta,x_i)$$ \n",
        "o zadanych z góry wartościach parametrów $\\theta$. Na koniec dodawane lub wymnażane są zakłocenia $z_i$ o zadanym rozkładzie:  \n",
        "$$ y_i = \\overline{y}_i + z_i$$\n",
        "lub \n",
        "$$ y_i = \\overline{y}_i \\cdot z_i.$$\n",
        "Użytkownikowi zwracane są macierze $X, Y$:\n",
        "$$X = \\begin{bmatrix} x_1 & x_2 & \\cdots & x_N \\end{bmatrix},$$\n",
        "$$Y = \\begin{bmatrix} y_1 & y_2 & \\cdots & y_N \\end{bmatrix},$$\n",
        "natomiast macierz \n",
        "$$Z = \\begin{bmatrix} z_1 & z_2 & \\cdots & z_N \\end{bmatrix}$$\n",
        "nie jest zwracana. <br>\n",
        "Sprawdź z wykładu pojęcie *obiekt w klasie modeli*, aby lepiej zrozumieć zamysł stojący za generatorem.\n"
      ]
    },
    {
      "cell_type": "code",
      "execution_count": 40,
      "metadata": {
        "id": "e8KPkqFNGYUZ"
      },
      "outputs": [],
      "source": [
        "def generator(rozklad_x, model, rozklad_z, typ_z):\n",
        "  # rozklad_x musi w pełni określać macierz X,\n",
        "  # model musi mieć określone wartości parametrów, za wejście będzie wstawiana X\n",
        "  # rozkład_z musi w pełni określać macierz Z\n",
        "  # typ_z może być 'addytywne' lub 'multiplikatywne'\n",
        "\n",
        "  X = rozklad_x()\n",
        "  Y_pred = model(X)\n",
        "  #print(X.shape)\n",
        "  if typ_z == 'addytywne':\n",
        "    Y = Y_pred + rozklad_z()\n",
        "  elif typ_z == 'multiplikatywne':\n",
        "    Y = Y_pred * rozklad_z()\n",
        "\n",
        "  return X, Y"
      ]
    },
    {
      "cell_type": "markdown",
      "metadata": {
        "id": "qsdR16F3HYnh"
      },
      "source": [
        "Jeżeli nie pamiętasz programowania funkcyjnego, nie przejmuj się kodem generatora. Wystarczy, że będziesz umieć go używać. Poniżej jest przykład, który demonstruje, jak elastyczne są jego parametry wywołania. Wypróbuj go zwłaszcza dla różnych rozkładów dla zmiennej $x$ i zakłóceń $z$. "
      ]
    },
    {
      "cell_type": "code",
      "execution_count": 41,
      "metadata": {
        "colab": {
          "base_uri": "https://localhost:8080/",
          "height": 279
        },
        "id": "QxlTJyxH_vmX",
        "outputId": "5aaae2df-5383-4ea7-b3c7-1db1e6556f25"
      },
      "outputs": [
        {
          "data": {
            "image/png": "[encoded data removed]",
            "text/plain": [
              "<Figure size 640x480 with 1 Axes>"
            ]
          },
          "metadata": {},
          "output_type": "display_data"
        }
      ],
      "source": [
        "def model(parametry, x):\n",
        "  a, b = parametry\n",
        "  return a*x + b\n",
        "\n",
        "N = 100\n",
        "X, Y = generator(\n",
        "  rozklad_x=lambda: np.random.uniform(low=0,high=1, size=N),\n",
        "  model=lambda x: model(parametry=[0.5, 1], x=x),\n",
        "  rozklad_z=lambda: np.random.normal(loc=0,scale=0.05, size=N),\n",
        "  typ_z='addytywne',\n",
        ")\n",
        "\n",
        "plt.scatter(X,Y)\n",
        "plt.xlabel('x')\n",
        "plt.ylabel('y')\n",
        "plt.show()"
      ]
    },
    {
      "attachments": {},
      "cell_type": "markdown",
      "metadata": {
        "id": "AdPfTKQTInUo"
      },
      "source": [
        "**Ćwiczenie 8:** <br>\n",
        "Udajemy, że nie wiemy, z jakimi wartościami parametrów $\\theta$ modelu został uruchomiony generator. Wiemy jedynie, że zakłócenia miały rozkład normalny o zerowej wartości oczekiwanej i znamy jego odchylenie standardowe (parametr ```scale``` funkcji ```normal```). <br>\n",
        "Należy zbadać jak zachowuje się błąd estymacji $\\theta - \\widehat{\\theta}$ w zależności od długości serii pomiarowej $N$ oraz od odchylenia standardowego zakłóceń. Wykonaj odpowiednie symulacje."
      ]
    },
    {
      "cell_type": "code",
      "execution_count": null,
      "metadata": {},
      "outputs": [],
      "source": []
    }
  ],
  "metadata": {
    "colab": {
      "collapsed_sections": [],
      "name": "MSiD_3_metoda najmniejszych kwadratów.ipynb",
      "provenance": []
    },
    "kernelspec": {
      "display_name": "Python 3",
      "name": "python3"
    },
    "language_info": {
      "codemirror_mode": {
        "name": "ipython",
        "version": 3
      },
      "file_extension": ".py",
      "mimetype": "text/x-python",
      "name": "python",
      "nbconvert_exporter": "python",
      "pygments_lexer": "ipython3",
      "version": "3.11.8"
    }
  },
  "nbformat": 4,
  "nbformat_minor": 0
}
